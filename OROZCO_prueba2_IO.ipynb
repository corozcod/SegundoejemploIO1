{
  "nbformat": 4,
  "nbformat_minor": 0,
  "metadata": {
    "colab": {
      "provenance": [],
      "authorship_tag": "ABX9TyNeXv/AUL3mUt3pIS0T3BHk",
      "include_colab_link": true
    },
    "kernelspec": {
      "name": "python3",
      "display_name": "Python 3"
    },
    "language_info": {
      "name": "python"
    }
  },
  "cells": [
    {
      "cell_type": "markdown",
      "metadata": {
        "id": "view-in-github",
        "colab_type": "text"
      },
      "source": [
        "<a href=\"https://colab.research.google.com/github/corozcod/SegundoejemploIO1/blob/main/OROZCO_prueba2_IO.ipynb\" target=\"_parent\"><img src=\"https://colab.research.google.com/assets/colab-badge.svg\" alt=\"Open In Colab\"/></a>"
      ]
    },
    {
      "cell_type": "markdown",
      "source": [
        " # primer ejercicio \n",
        "\n"
      ],
      "metadata": {
        "id": "PEebpppC3ukF"
      }
    },
    {
      "cell_type": "code",
      "execution_count": 3,
      "metadata": {
        "colab": {
          "base_uri": "https://localhost:8080/"
        },
        "id": "yqyw88-u2DBe",
        "outputId": "26c89e44-1ef1-4679-b797-1a2f2f623502"
      },
      "outputs": [
        {
          "output_type": "stream",
          "name": "stdout",
          "text": [
            "Buenos dias mundo\n",
            "\n",
            "\n"
          ]
        }
      ],
      "source": [
        "print(\"Buenos dias mundo\")\n",
        "print(\"\")\n",
        "print(\"\")"
      ]
    },
    {
      "cell_type": "markdown",
      "source": [
        "# segundo ejercicio\n"
      ],
      "metadata": {
        "id": "wNMp26Vl4JlN"
      }
    },
    {
      "cell_type": "code",
      "source": [
        "print(\"hola, Cesar\")"
      ],
      "metadata": {
        "colab": {
          "base_uri": "https://localhost:8080/"
        },
        "id": "DSZzRrPK4SmV",
        "outputId": "f0a24f22-6cb3-49c9-97e3-e49d67f5c5b4"
      },
      "execution_count": 2,
      "outputs": [
        {
          "output_type": "stream",
          "name": "stdout",
          "text": [
            "hola, Cesar\n"
          ]
        }
      ]
    }
  ]
}